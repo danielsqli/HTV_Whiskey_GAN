{
 "cells": [
  {
   "cell_type": "code",
   "execution_count": 44,
   "metadata": {
    "collapsed": true,
    "pycharm": {
     "is_executing": false
    }
   },
   "outputs": [],
   "source": [
    "import pandas as pd\n",
    "import numpy as np\n",
    "\n",
    "wine_data = pd.read_csv(\"winemag-data-130k-v2.csv\")\n",
    "\n",
    "wine_data.drop(columns=[\"Unnamed: 0\", \"taster_name\", \"region_2\", \"taster_twitter_handle\"], inplace=True)"
   ]
  },
  {
   "cell_type": "code",
   "execution_count": 45,
   "outputs": [
    {
     "data": {
      "text/plain": "Index(['country', 'description', 'designation', 'points', 'price', 'province',\n       'region_1', 'title', 'variety', 'winery'],\n      dtype='object')"
     },
     "metadata": {},
     "output_type": "execute_result",
     "execution_count": 45
    }
   ],
   "source": [
    "wine_data.columns"
   ],
   "metadata": {
    "collapsed": false,
    "pycharm": {
     "name": "#%%\n",
     "is_executing": false
    }
   }
  },
  {
   "cell_type": "code",
   "execution_count": 46,
   "outputs": [],
   "source": [
    "wine_data = wine_data[['country', 'variety', 'price', 'description', 'designation', 'province', 'region_1', 'title',\n",
    "                       'winery', 'points']]\n",
    "#wine_data = wine_data[wine_data.columns[0, 8, 4, 1, 2, 5, 6, 7, 9, 3]]"
   ],
   "metadata": {
    "collapsed": false,
    "pycharm": {
     "name": "#%%\n",
     "is_executing": false
    }
   }
  },
  {
   "cell_type": "code",
   "execution_count": 47,
   "outputs": [
    {
     "data": {
      "text/plain": "Index(['country', 'variety', 'price', 'description', 'designation', 'province',\n       'region_1', 'title', 'winery', 'points'],\n      dtype='object')"
     },
     "metadata": {},
     "output_type": "execute_result",
     "execution_count": 47
    }
   ],
   "source": [
    "wine_data.columns"
   ],
   "metadata": {
    "collapsed": false,
    "pycharm": {
     "name": "#%%\n",
     "is_executing": false
    }
   }
  },
  {
   "cell_type": "code",
   "execution_count": 48,
   "outputs": [
    {
     "name": "stdout",
     "text": [
      "35.363389129985535\n"
     ],
     "output_type": "stream"
    }
   ],
   "source": [
    "mean = wine_data.describe().at['mean', 'price']\n",
    "print(mean)\n"
   ],
   "metadata": {
    "collapsed": false,
    "pycharm": {
     "name": "#%%\n",
     "is_executing": false
    }
   }
  },
  {
   "cell_type": "code",
   "execution_count": 49,
   "outputs": [
    {
     "data": {
      "text/plain": "    country         variety  price  \\\n0     Italy     White Blend    NaN   \n1  Portugal  Portuguese Red   15.0   \n2        US      Pinot Gris   14.0   \n3        US        Riesling   13.0   \n4        US      Pinot Noir   65.0   \n\n                                         description  \\\n0  Aromas include tropical fruit, broom, brimston...   \n1  This is ripe and fruity, a wine that is smooth...   \n2  Tart and snappy, the flavors of lime flesh and...   \n3  Pineapple rind, lemon pith and orange blossom ...   \n4  Much like the regular bottling from 2012, this...   \n\n                          designation           province             region_1  \\\n0                        Vulkà Bianco  Sicily & Sardinia                 Etna   \n1                            Avidagos              Douro                  NaN   \n2                                 NaN             Oregon    Willamette Valley   \n3                Reserve Late Harvest           Michigan  Lake Michigan Shore   \n4  Vintner's Reserve Wild Child Block             Oregon    Willamette Valley   \n\n                                               title               winery  \\\n0                  Nicosia 2013 Vulkà Bianco  (Etna)              Nicosia   \n1      Quinta dos Avidagos 2011 Avidagos Red (Douro)  Quinta dos Avidagos   \n2      Rainstorm 2013 Pinot Gris (Willamette Valley)            Rainstorm   \n3  St. Julian 2013 Reserve Late Harvest Riesling ...           St. Julian   \n4  Sweet Cheeks 2012 Vintner's Reserve Wild Child...         Sweet Cheeks   \n\n   points  \n0      87  \n1      87  \n2      87  \n3      87  \n4      87  ",
      "text/html": "<div>\n<style scoped>\n    .dataframe tbody tr th:only-of-type {\n        vertical-align: middle;\n    }\n\n    .dataframe tbody tr th {\n        vertical-align: top;\n    }\n\n    .dataframe thead th {\n        text-align: right;\n    }\n</style>\n<table border=\"1\" class=\"dataframe\">\n  <thead>\n    <tr style=\"text-align: right;\">\n      <th></th>\n      <th>country</th>\n      <th>variety</th>\n      <th>price</th>\n      <th>description</th>\n      <th>designation</th>\n      <th>province</th>\n      <th>region_1</th>\n      <th>title</th>\n      <th>winery</th>\n      <th>points</th>\n    </tr>\n  </thead>\n  <tbody>\n    <tr>\n      <th>0</th>\n      <td>Italy</td>\n      <td>White Blend</td>\n      <td>NaN</td>\n      <td>Aromas include tropical fruit, broom, brimston...</td>\n      <td>Vulkà Bianco</td>\n      <td>Sicily &amp; Sardinia</td>\n      <td>Etna</td>\n      <td>Nicosia 2013 Vulkà Bianco  (Etna)</td>\n      <td>Nicosia</td>\n      <td>87</td>\n    </tr>\n    <tr>\n      <th>1</th>\n      <td>Portugal</td>\n      <td>Portuguese Red</td>\n      <td>15.0</td>\n      <td>This is ripe and fruity, a wine that is smooth...</td>\n      <td>Avidagos</td>\n      <td>Douro</td>\n      <td>NaN</td>\n      <td>Quinta dos Avidagos 2011 Avidagos Red (Douro)</td>\n      <td>Quinta dos Avidagos</td>\n      <td>87</td>\n    </tr>\n    <tr>\n      <th>2</th>\n      <td>US</td>\n      <td>Pinot Gris</td>\n      <td>14.0</td>\n      <td>Tart and snappy, the flavors of lime flesh and...</td>\n      <td>NaN</td>\n      <td>Oregon</td>\n      <td>Willamette Valley</td>\n      <td>Rainstorm 2013 Pinot Gris (Willamette Valley)</td>\n      <td>Rainstorm</td>\n      <td>87</td>\n    </tr>\n    <tr>\n      <th>3</th>\n      <td>US</td>\n      <td>Riesling</td>\n      <td>13.0</td>\n      <td>Pineapple rind, lemon pith and orange blossom ...</td>\n      <td>Reserve Late Harvest</td>\n      <td>Michigan</td>\n      <td>Lake Michigan Shore</td>\n      <td>St. Julian 2013 Reserve Late Harvest Riesling ...</td>\n      <td>St. Julian</td>\n      <td>87</td>\n    </tr>\n    <tr>\n      <th>4</th>\n      <td>US</td>\n      <td>Pinot Noir</td>\n      <td>65.0</td>\n      <td>Much like the regular bottling from 2012, this...</td>\n      <td>Vintner's Reserve Wild Child Block</td>\n      <td>Oregon</td>\n      <td>Willamette Valley</td>\n      <td>Sweet Cheeks 2012 Vintner's Reserve Wild Child...</td>\n      <td>Sweet Cheeks</td>\n      <td>87</td>\n    </tr>\n  </tbody>\n</table>\n</div>"
     },
     "metadata": {},
     "output_type": "execute_result",
     "execution_count": 49
    }
   ],
   "source": [
    "wine_data.head()"
   ],
   "metadata": {
    "collapsed": false,
    "pycharm": {
     "name": "#%%\n",
     "is_executing": false
    }
   }
  },
  {
   "cell_type": "code",
   "execution_count": 50,
   "outputs": [
    {
     "data": {
      "text/plain": "country           63\nvariety            1\nprice           8996\ndescription        0\ndesignation    37465\nprovince          63\nregion_1       21247\ntitle              0\nwinery             0\npoints             0\ndtype: int64"
     },
     "metadata": {},
     "output_type": "execute_result",
     "execution_count": 50
    }
   ],
   "source": [
    "wine_data.isna().sum()"
   ],
   "metadata": {
    "collapsed": false,
    "pycharm": {
     "name": "#%%\n",
     "is_executing": false
    }
   }
  },
  {
   "cell_type": "code",
   "execution_count": 51,
   "outputs": [],
   "source": [
    "for index, row in wine_data.iterrows():\n",
    "    if row['designation'] is np.NaN:\n",
    "        wine_data.at[index, 'designation'] = 'N/A'\n",
    "    if row['region_1'] is np.NaN:\n",
    "        wine_data.at[index, 'region_1'] = 'N/A'\n",
    "    if row['price'] != row['price']:\n",
    "        wine_data.at[index, 'price'] = mean\n",
    "    if row['country'] is np.NaN:\n",
    "        wine_data.at[index, 'country'] = 'N/A'\n",
    "    if row['variety'] is np.NaN:\n",
    "        wine_data.at[index, 'variety'] = 'N/A'\n",
    "    if row['province'] is np.NaN:\n",
    "        wine_data.at[index, 'province'] = 'N/A'\n"
   ],
   "metadata": {
    "collapsed": false,
    "pycharm": {
     "name": "#%%\n",
     "is_executing": false
    }
   }
  },
  {
   "cell_type": "code",
   "execution_count": 52,
   "outputs": [
    {
     "data": {
      "text/plain": "country        0\nvariety        0\nprice          0\ndescription    0\ndesignation    0\nprovince       0\nregion_1       0\ntitle          0\nwinery         0\npoints         0\ndtype: int64"
     },
     "metadata": {},
     "output_type": "execute_result",
     "execution_count": 52
    }
   ],
   "source": [
    "wine_data.isna().sum()\n"
   ],
   "metadata": {
    "collapsed": false,
    "pycharm": {
     "name": "#%%\n",
     "is_executing": false
    }
   }
  },
  {
   "cell_type": "code",
   "execution_count": 53,
   "outputs": [],
   "source": [
    "file = open('wine_data.txt', 'wb')\n",
    "for index, row in wine_data.iterrows():\n",
    "    file.write(\"<|startoftext|>\\n\".encode('utf-8'))\n",
    "    for ind in wine_data.columns:\n",
    "        file.write((ind + \": \" + str(wine_data.at[index, ind]) + \"\\n\").encode('utf-8'))\n",
    "    file.write(\"<|endoftext|>\\n\".encode('utf-8'))\n",
    "file.close()\n",
    "\n"
   ],
   "metadata": {
    "collapsed": false,
    "pycharm": {
     "name": "#%%\n",
     "is_executing": false
    }
   }
  }
 ],
 "metadata": {
  "kernelspec": {
   "display_name": "Python 3",
   "language": "python",
   "name": "python3"
  },
  "language_info": {
   "codemirror_mode": {
    "name": "ipython",
    "version": 2
   },
   "file_extension": ".py",
   "mimetype": "text/x-python",
   "name": "python",
   "nbconvert_exporter": "python",
   "pygments_lexer": "ipython2",
   "version": "2.7.6"
  },
  "pycharm": {
   "stem_cell": {
    "cell_type": "raw",
    "source": [],
    "metadata": {
     "collapsed": false
    }
   }
  }
 },
 "nbformat": 4,
 "nbformat_minor": 0
}